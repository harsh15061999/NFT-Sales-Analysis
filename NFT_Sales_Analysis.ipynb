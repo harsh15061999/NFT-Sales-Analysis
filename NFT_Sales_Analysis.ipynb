{
  "nbformat": 4,
  "nbformat_minor": 0,
  "metadata": {
    "colab": {
      "name": "NFT Sales Analysis",
      "provenance": [],
      "authorship_tag": "ABX9TyMGtBn06Kbr+EOOutPiTiZ8",
      "include_colab_link": true
    },
    "kernelspec": {
      "name": "python3",
      "display_name": "Python 3"
    },
    "language_info": {
      "name": "python"
    }
  },
  "cells": [
    {
      "cell_type": "markdown",
      "metadata": {
        "id": "view-in-github",
        "colab_type": "text"
      },
      "source": [
        "<a href=\"https://colab.research.google.com/github/harsh15061999/NFT-Sales-Analysis/blob/main/NFT_Sales_Analysis.ipynb\" target=\"_parent\"><img src=\"https://colab.research.google.com/assets/colab-badge.svg\" alt=\"Open In Colab\"/></a>"
      ]
    },
    {
      "cell_type": "markdown",
      "source": [
        "# **Analytics of NFT'S Collections**\n"
      ],
      "metadata": {
        "id": "N1XaqJ5kgrbJ"
      }
    },
    {
      "cell_type": "markdown",
      "source": [
        "Introduction:\n",
        "\n",
        "This data has information about the top 250 NFT collections in the word\n",
        "- Columns ( Collections, Sales, Buyers, Txns, Owners)\n",
        "- link to the sites where I got this data: https://www.kaggle.com/hemil26/nft-collections-dataset"
      ],
      "metadata": {
        "id": "-q_BNklhg1d8"
      }
    },
    {
      "cell_type": "code",
      "source": [
        "import pandas as pd\n",
        "import numpy as np\n",
        "import seaborn as sns\n",
        "import matplotlib.pyplot as plt\n",
        "import warnings"
      ],
      "metadata": {
        "id": "3SBBuvBpSem0"
      },
      "execution_count": 6,
      "outputs": []
    },
    {
      "cell_type": "code",
      "execution_count": 7,
      "metadata": {
        "colab": {
          "resources": {
            "http://localhost:8080/nbextensions/google.colab/files.js": {
              "data": "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",
              "ok": true,
              "headers": [
                [
                  "content-type",
                  "application/javascript"
                ]
              ],
              "status": 200,
              "status_text": ""
            }
          },
          "base_uri": "https://localhost:8080/",
          "height": 73
        },
        "id": "W86-ynfcSYOG",
        "outputId": "f7eee881-d16f-4f6b-c31f-762551ed02c2"
      },
      "outputs": [
        {
          "output_type": "display_data",
          "data": {
            "text/plain": [
              "<IPython.core.display.HTML object>"
            ],
            "text/html": [
              "\n",
              "     <input type=\"file\" id=\"files-00eb63ad-5713-4c54-aeae-52fef40265de\" name=\"files[]\" multiple disabled\n",
              "        style=\"border:none\" />\n",
              "     <output id=\"result-00eb63ad-5713-4c54-aeae-52fef40265de\">\n",
              "      Upload widget is only available when the cell has been executed in the\n",
              "      current browser session. Please rerun this cell to enable.\n",
              "      </output>\n",
              "      <script src=\"/nbextensions/google.colab/files.js\"></script> "
            ]
          },
          "metadata": {}
        },
        {
          "output_type": "stream",
          "name": "stdout",
          "text": [
            "Saving nft_sales.csv to nft_sales (1).csv\n"
          ]
        }
      ],
      "source": [
        "from google.colab import files\n",
        "uploaded = files.upload()"
      ]
    },
    {
      "cell_type": "code",
      "source": [
        "df = pd.read_csv('nft_sales.csv')\n",
        "print(df.head())\n",
        "print(df.info())"
      ],
      "metadata": {
        "colab": {
          "base_uri": "https://localhost:8080/"
        },
        "id": "hSyDcTmgShVA",
        "outputId": "45b56b80-e712-458b-f4dd-ff1515dfd17a"
      },
      "execution_count": 11,
      "outputs": [
        {
          "output_type": "stream",
          "name": "stdout",
          "text": [
            "             Collections           Sales     Buyers        Txns     Owners\n",
            "0          Axie Infinity  $4,074,436,593  1,758,089  16,425,913  2,421,759\n",
            "1            CryptoPunks  $2,265,241,216      5,681      21,287      3,711\n",
            "2   Bored Ape Yacht Club  $2,221,448,934     11,449      29,835        NaN\n",
            "3  Mutant Ape Yacht Club  $1,566,494,617     21,581      40,202        NaN\n",
            "4             Art Blocks  $1,265,723,876     30,142     161,629     34,392\n",
            "<class 'pandas.core.frame.DataFrame'>\n",
            "RangeIndex: 250 entries, 0 to 249\n",
            "Data columns (total 5 columns):\n",
            " #   Column       Non-Null Count  Dtype \n",
            "---  ------       --------------  ----- \n",
            " 0   Collections  250 non-null    object\n",
            " 1   Sales        250 non-null    object\n",
            " 2   Buyers       250 non-null    object\n",
            " 3   Txns         250 non-null    object\n",
            " 4   Owners       114 non-null    object\n",
            "dtypes: object(5)\n",
            "memory usage: 9.9+ KB\n",
            "None\n"
          ]
        }
      ]
    },
    {
      "cell_type": "code",
      "source": [
        "print(f'Quantity of lines: {df.shape[0]}\\nQuantity of Columns: {df.shape[1]}')"
      ],
      "metadata": {
        "colab": {
          "base_uri": "https://localhost:8080/"
        },
        "id": "5jqXUNwHShSo",
        "outputId": "cbd70221-c1d2-4baf-aeb8-a36aefae05c0"
      },
      "execution_count": 12,
      "outputs": [
        {
          "output_type": "stream",
          "name": "stdout",
          "text": [
            "Quantity of lines: 250\n",
            "Quantity of Columns: 5\n"
          ]
        }
      ]
    },
    {
      "cell_type": "code",
      "source": [
        "nft_collections = df.dropna()\n",
        "nft_collections"
      ],
      "metadata": {
        "colab": {
          "base_uri": "https://localhost:8080/",
          "height": 424
        },
        "id": "fFrI9q2ZShQQ",
        "outputId": "88a09b7b-4353-4225-a54a-56df919ef2c4"
      },
      "execution_count": 14,
      "outputs": [
        {
          "output_type": "execute_result",
          "data": {
            "text/plain": [
              "          Collections           Sales     Buyers        Txns     Owners\n",
              "0       Axie Infinity  $4,074,436,593  1,758,089  16,425,913  2,421,759\n",
              "1         CryptoPunks  $2,265,241,216      5,681      21,287      3,711\n",
              "4          Art Blocks  $1,265,723,876     30,142     161,629     34,392\n",
              "5        NBA Top Shot  $1,010,518,586    441,331  20,508,086    694,627\n",
              "13        The Sandbox    $371,134,354     25,051      55,929     19,033\n",
              "..                ...             ...        ...         ...        ...\n",
              "237  Space Punks Club     $20,649,569      6,174      14,016      4,307\n",
              "241    Gods Unchained     $20,280,023      3,576     386,409     15,272\n",
              "242     DystoPunks V2     $20,247,979      1,326       3,169        673\n",
              "245        Wool Pouch     $19,972,856      2,043       5,349      3,272\n",
              "248          BYOPills     $19,700,617      5,586      13,728      3,216\n",
              "\n",
              "[114 rows x 5 columns]"
            ],
            "text/html": [
              "\n",
              "  <div id=\"df-b9b59228-f955-439a-a614-24644e79753e\">\n",
              "    <div class=\"colab-df-container\">\n",
              "      <div>\n",
              "<style scoped>\n",
              "    .dataframe tbody tr th:only-of-type {\n",
              "        vertical-align: middle;\n",
              "    }\n",
              "\n",
              "    .dataframe tbody tr th {\n",
              "        vertical-align: top;\n",
              "    }\n",
              "\n",
              "    .dataframe thead th {\n",
              "        text-align: right;\n",
              "    }\n",
              "</style>\n",
              "<table border=\"1\" class=\"dataframe\">\n",
              "  <thead>\n",
              "    <tr style=\"text-align: right;\">\n",
              "      <th></th>\n",
              "      <th>Collections</th>\n",
              "      <th>Sales</th>\n",
              "      <th>Buyers</th>\n",
              "      <th>Txns</th>\n",
              "      <th>Owners</th>\n",
              "    </tr>\n",
              "  </thead>\n",
              "  <tbody>\n",
              "    <tr>\n",
              "      <th>0</th>\n",
              "      <td>Axie Infinity</td>\n",
              "      <td>$4,074,436,593</td>\n",
              "      <td>1,758,089</td>\n",
              "      <td>16,425,913</td>\n",
              "      <td>2,421,759</td>\n",
              "    </tr>\n",
              "    <tr>\n",
              "      <th>1</th>\n",
              "      <td>CryptoPunks</td>\n",
              "      <td>$2,265,241,216</td>\n",
              "      <td>5,681</td>\n",
              "      <td>21,287</td>\n",
              "      <td>3,711</td>\n",
              "    </tr>\n",
              "    <tr>\n",
              "      <th>4</th>\n",
              "      <td>Art Blocks</td>\n",
              "      <td>$1,265,723,876</td>\n",
              "      <td>30,142</td>\n",
              "      <td>161,629</td>\n",
              "      <td>34,392</td>\n",
              "    </tr>\n",
              "    <tr>\n",
              "      <th>5</th>\n",
              "      <td>NBA Top Shot</td>\n",
              "      <td>$1,010,518,586</td>\n",
              "      <td>441,331</td>\n",
              "      <td>20,508,086</td>\n",
              "      <td>694,627</td>\n",
              "    </tr>\n",
              "    <tr>\n",
              "      <th>13</th>\n",
              "      <td>The Sandbox</td>\n",
              "      <td>$371,134,354</td>\n",
              "      <td>25,051</td>\n",
              "      <td>55,929</td>\n",
              "      <td>19,033</td>\n",
              "    </tr>\n",
              "    <tr>\n",
              "      <th>...</th>\n",
              "      <td>...</td>\n",
              "      <td>...</td>\n",
              "      <td>...</td>\n",
              "      <td>...</td>\n",
              "      <td>...</td>\n",
              "    </tr>\n",
              "    <tr>\n",
              "      <th>237</th>\n",
              "      <td>Space Punks Club</td>\n",
              "      <td>$20,649,569</td>\n",
              "      <td>6,174</td>\n",
              "      <td>14,016</td>\n",
              "      <td>4,307</td>\n",
              "    </tr>\n",
              "    <tr>\n",
              "      <th>241</th>\n",
              "      <td>Gods Unchained</td>\n",
              "      <td>$20,280,023</td>\n",
              "      <td>3,576</td>\n",
              "      <td>386,409</td>\n",
              "      <td>15,272</td>\n",
              "    </tr>\n",
              "    <tr>\n",
              "      <th>242</th>\n",
              "      <td>DystoPunks V2</td>\n",
              "      <td>$20,247,979</td>\n",
              "      <td>1,326</td>\n",
              "      <td>3,169</td>\n",
              "      <td>673</td>\n",
              "    </tr>\n",
              "    <tr>\n",
              "      <th>245</th>\n",
              "      <td>Wool Pouch</td>\n",
              "      <td>$19,972,856</td>\n",
              "      <td>2,043</td>\n",
              "      <td>5,349</td>\n",
              "      <td>3,272</td>\n",
              "    </tr>\n",
              "    <tr>\n",
              "      <th>248</th>\n",
              "      <td>BYOPills</td>\n",
              "      <td>$19,700,617</td>\n",
              "      <td>5,586</td>\n",
              "      <td>13,728</td>\n",
              "      <td>3,216</td>\n",
              "    </tr>\n",
              "  </tbody>\n",
              "</table>\n",
              "<p>114 rows × 5 columns</p>\n",
              "</div>\n",
              "      <button class=\"colab-df-convert\" onclick=\"convertToInteractive('df-b9b59228-f955-439a-a614-24644e79753e')\"\n",
              "              title=\"Convert this dataframe to an interactive table.\"\n",
              "              style=\"display:none;\">\n",
              "        \n",
              "  <svg xmlns=\"http://www.w3.org/2000/svg\" height=\"24px\"viewBox=\"0 0 24 24\"\n",
              "       width=\"24px\">\n",
              "    <path d=\"M0 0h24v24H0V0z\" fill=\"none\"/>\n",
              "    <path d=\"M18.56 5.44l.94 2.06.94-2.06 2.06-.94-2.06-.94-.94-2.06-.94 2.06-2.06.94zm-11 1L8.5 8.5l.94-2.06 2.06-.94-2.06-.94L8.5 2.5l-.94 2.06-2.06.94zm10 10l.94 2.06.94-2.06 2.06-.94-2.06-.94-.94-2.06-.94 2.06-2.06.94z\"/><path d=\"M17.41 7.96l-1.37-1.37c-.4-.4-.92-.59-1.43-.59-.52 0-1.04.2-1.43.59L10.3 9.45l-7.72 7.72c-.78.78-.78 2.05 0 2.83L4 21.41c.39.39.9.59 1.41.59.51 0 1.02-.2 1.41-.59l7.78-7.78 2.81-2.81c.8-.78.8-2.07 0-2.86zM5.41 20L4 18.59l7.72-7.72 1.47 1.35L5.41 20z\"/>\n",
              "  </svg>\n",
              "      </button>\n",
              "      \n",
              "  <style>\n",
              "    .colab-df-container {\n",
              "      display:flex;\n",
              "      flex-wrap:wrap;\n",
              "      gap: 12px;\n",
              "    }\n",
              "\n",
              "    .colab-df-convert {\n",
              "      background-color: #E8F0FE;\n",
              "      border: none;\n",
              "      border-radius: 50%;\n",
              "      cursor: pointer;\n",
              "      display: none;\n",
              "      fill: #1967D2;\n",
              "      height: 32px;\n",
              "      padding: 0 0 0 0;\n",
              "      width: 32px;\n",
              "    }\n",
              "\n",
              "    .colab-df-convert:hover {\n",
              "      background-color: #E2EBFA;\n",
              "      box-shadow: 0px 1px 2px rgba(60, 64, 67, 0.3), 0px 1px 3px 1px rgba(60, 64, 67, 0.15);\n",
              "      fill: #174EA6;\n",
              "    }\n",
              "\n",
              "    [theme=dark] .colab-df-convert {\n",
              "      background-color: #3B4455;\n",
              "      fill: #D2E3FC;\n",
              "    }\n",
              "\n",
              "    [theme=dark] .colab-df-convert:hover {\n",
              "      background-color: #434B5C;\n",
              "      box-shadow: 0px 1px 3px 1px rgba(0, 0, 0, 0.15);\n",
              "      filter: drop-shadow(0px 1px 2px rgba(0, 0, 0, 0.3));\n",
              "      fill: #FFFFFF;\n",
              "    }\n",
              "  </style>\n",
              "\n",
              "      <script>\n",
              "        const buttonEl =\n",
              "          document.querySelector('#df-b9b59228-f955-439a-a614-24644e79753e button.colab-df-convert');\n",
              "        buttonEl.style.display =\n",
              "          google.colab.kernel.accessAllowed ? 'block' : 'none';\n",
              "\n",
              "        async function convertToInteractive(key) {\n",
              "          const element = document.querySelector('#df-b9b59228-f955-439a-a614-24644e79753e');\n",
              "          const dataTable =\n",
              "            await google.colab.kernel.invokeFunction('convertToInteractive',\n",
              "                                                     [key], {});\n",
              "          if (!dataTable) return;\n",
              "\n",
              "          const docLinkHtml = 'Like what you see? Visit the ' +\n",
              "            '<a target=\"_blank\" href=https://colab.research.google.com/notebooks/data_table.ipynb>data table notebook</a>'\n",
              "            + ' to learn more about interactive tables.';\n",
              "          element.innerHTML = '';\n",
              "          dataTable['output_type'] = 'display_data';\n",
              "          await google.colab.output.renderOutput(dataTable, element);\n",
              "          const docLink = document.createElement('div');\n",
              "          docLink.innerHTML = docLinkHtml;\n",
              "          element.appendChild(docLink);\n",
              "        }\n",
              "      </script>\n",
              "    </div>\n",
              "  </div>\n",
              "  "
            ]
          },
          "metadata": {},
          "execution_count": 14
        }
      ]
    },
    {
      "cell_type": "code",
      "source": [
        "nft_collections.rename(columns = {'Txns': 'Transactions'}, inplace = True)\n",
        "nft_collections['Sales'] =  nft_collections['Sales'].str.replace('$', '')\n",
        "nft_collections['Sales'] =  nft_collections['Sales'].str.replace(',', '')\n",
        "nft_collections['Buyers'] = nft_collections['Buyers'].str.replace(',','')\n",
        "nft_collections['Transactions'] =  nft_collections['Transactions'] .str.replace(',','')\n",
        "nft_collections['Owners'] =  nft_collections['Owners'].str.replace(',','')\n",
        "\n",
        "warnings.filterwarnings('ignore')\n",
        "nft_collections"
      ],
      "metadata": {
        "id": "J9seJHDVShNg"
      },
      "execution_count": null,
      "outputs": []
    },
    {
      "cell_type": "code",
      "source": [
        "nft_collections['Sales'] = nft_collections['Sales'].astype('int64')\n",
        "nft_collections['Buyers'] = nft_collections['Buyers'].astype('int64')\n",
        "nft_collections['Transactions'] = nft_collections['Transactions'].astype('int64')\n",
        "nft_collections['Owners'] = nft_collections['Owners'].astype('int64')\n",
        "nft_collections"
      ],
      "metadata": {
        "colab": {
          "base_uri": "https://localhost:8080/",
          "height": 424
        },
        "id": "yvNx7a6HShK4",
        "outputId": "4c85dfc7-9e47-4567-c8db-bbea3e7e1000"
      },
      "execution_count": 16,
      "outputs": [
        {
          "output_type": "execute_result",
          "data": {
            "text/plain": [
              "          Collections       Sales   Buyers  Transactions   Owners\n",
              "0       Axie Infinity  4074436593  1758089      16425913  2421759\n",
              "1         CryptoPunks  2265241216     5681         21287     3711\n",
              "4          Art Blocks  1265723876    30142        161629    34392\n",
              "5        NBA Top Shot  1010518586   441331      20508086   694627\n",
              "13        The Sandbox   371134354    25051         55929    19033\n",
              "..                ...         ...      ...           ...      ...\n",
              "237  Space Punks Club    20649569     6174         14016     4307\n",
              "241    Gods Unchained    20280023     3576        386409    15272\n",
              "242     DystoPunks V2    20247979     1326          3169      673\n",
              "245        Wool Pouch    19972856     2043          5349     3272\n",
              "248          BYOPills    19700617     5586         13728     3216\n",
              "\n",
              "[114 rows x 5 columns]"
            ],
            "text/html": [
              "\n",
              "  <div id=\"df-a1df9048-f011-4e06-92ec-99a3a6801b1a\">\n",
              "    <div class=\"colab-df-container\">\n",
              "      <div>\n",
              "<style scoped>\n",
              "    .dataframe tbody tr th:only-of-type {\n",
              "        vertical-align: middle;\n",
              "    }\n",
              "\n",
              "    .dataframe tbody tr th {\n",
              "        vertical-align: top;\n",
              "    }\n",
              "\n",
              "    .dataframe thead th {\n",
              "        text-align: right;\n",
              "    }\n",
              "</style>\n",
              "<table border=\"1\" class=\"dataframe\">\n",
              "  <thead>\n",
              "    <tr style=\"text-align: right;\">\n",
              "      <th></th>\n",
              "      <th>Collections</th>\n",
              "      <th>Sales</th>\n",
              "      <th>Buyers</th>\n",
              "      <th>Transactions</th>\n",
              "      <th>Owners</th>\n",
              "    </tr>\n",
              "  </thead>\n",
              "  <tbody>\n",
              "    <tr>\n",
              "      <th>0</th>\n",
              "      <td>Axie Infinity</td>\n",
              "      <td>4074436593</td>\n",
              "      <td>1758089</td>\n",
              "      <td>16425913</td>\n",
              "      <td>2421759</td>\n",
              "    </tr>\n",
              "    <tr>\n",
              "      <th>1</th>\n",
              "      <td>CryptoPunks</td>\n",
              "      <td>2265241216</td>\n",
              "      <td>5681</td>\n",
              "      <td>21287</td>\n",
              "      <td>3711</td>\n",
              "    </tr>\n",
              "    <tr>\n",
              "      <th>4</th>\n",
              "      <td>Art Blocks</td>\n",
              "      <td>1265723876</td>\n",
              "      <td>30142</td>\n",
              "      <td>161629</td>\n",
              "      <td>34392</td>\n",
              "    </tr>\n",
              "    <tr>\n",
              "      <th>5</th>\n",
              "      <td>NBA Top Shot</td>\n",
              "      <td>1010518586</td>\n",
              "      <td>441331</td>\n",
              "      <td>20508086</td>\n",
              "      <td>694627</td>\n",
              "    </tr>\n",
              "    <tr>\n",
              "      <th>13</th>\n",
              "      <td>The Sandbox</td>\n",
              "      <td>371134354</td>\n",
              "      <td>25051</td>\n",
              "      <td>55929</td>\n",
              "      <td>19033</td>\n",
              "    </tr>\n",
              "    <tr>\n",
              "      <th>...</th>\n",
              "      <td>...</td>\n",
              "      <td>...</td>\n",
              "      <td>...</td>\n",
              "      <td>...</td>\n",
              "      <td>...</td>\n",
              "    </tr>\n",
              "    <tr>\n",
              "      <th>237</th>\n",
              "      <td>Space Punks Club</td>\n",
              "      <td>20649569</td>\n",
              "      <td>6174</td>\n",
              "      <td>14016</td>\n",
              "      <td>4307</td>\n",
              "    </tr>\n",
              "    <tr>\n",
              "      <th>241</th>\n",
              "      <td>Gods Unchained</td>\n",
              "      <td>20280023</td>\n",
              "      <td>3576</td>\n",
              "      <td>386409</td>\n",
              "      <td>15272</td>\n",
              "    </tr>\n",
              "    <tr>\n",
              "      <th>242</th>\n",
              "      <td>DystoPunks V2</td>\n",
              "      <td>20247979</td>\n",
              "      <td>1326</td>\n",
              "      <td>3169</td>\n",
              "      <td>673</td>\n",
              "    </tr>\n",
              "    <tr>\n",
              "      <th>245</th>\n",
              "      <td>Wool Pouch</td>\n",
              "      <td>19972856</td>\n",
              "      <td>2043</td>\n",
              "      <td>5349</td>\n",
              "      <td>3272</td>\n",
              "    </tr>\n",
              "    <tr>\n",
              "      <th>248</th>\n",
              "      <td>BYOPills</td>\n",
              "      <td>19700617</td>\n",
              "      <td>5586</td>\n",
              "      <td>13728</td>\n",
              "      <td>3216</td>\n",
              "    </tr>\n",
              "  </tbody>\n",
              "</table>\n",
              "<p>114 rows × 5 columns</p>\n",
              "</div>\n",
              "      <button class=\"colab-df-convert\" onclick=\"convertToInteractive('df-a1df9048-f011-4e06-92ec-99a3a6801b1a')\"\n",
              "              title=\"Convert this dataframe to an interactive table.\"\n",
              "              style=\"display:none;\">\n",
              "        \n",
              "  <svg xmlns=\"http://www.w3.org/2000/svg\" height=\"24px\"viewBox=\"0 0 24 24\"\n",
              "       width=\"24px\">\n",
              "    <path d=\"M0 0h24v24H0V0z\" fill=\"none\"/>\n",
              "    <path d=\"M18.56 5.44l.94 2.06.94-2.06 2.06-.94-2.06-.94-.94-2.06-.94 2.06-2.06.94zm-11 1L8.5 8.5l.94-2.06 2.06-.94-2.06-.94L8.5 2.5l-.94 2.06-2.06.94zm10 10l.94 2.06.94-2.06 2.06-.94-2.06-.94-.94-2.06-.94 2.06-2.06.94z\"/><path d=\"M17.41 7.96l-1.37-1.37c-.4-.4-.92-.59-1.43-.59-.52 0-1.04.2-1.43.59L10.3 9.45l-7.72 7.72c-.78.78-.78 2.05 0 2.83L4 21.41c.39.39.9.59 1.41.59.51 0 1.02-.2 1.41-.59l7.78-7.78 2.81-2.81c.8-.78.8-2.07 0-2.86zM5.41 20L4 18.59l7.72-7.72 1.47 1.35L5.41 20z\"/>\n",
              "  </svg>\n",
              "      </button>\n",
              "      \n",
              "  <style>\n",
              "    .colab-df-container {\n",
              "      display:flex;\n",
              "      flex-wrap:wrap;\n",
              "      gap: 12px;\n",
              "    }\n",
              "\n",
              "    .colab-df-convert {\n",
              "      background-color: #E8F0FE;\n",
              "      border: none;\n",
              "      border-radius: 50%;\n",
              "      cursor: pointer;\n",
              "      display: none;\n",
              "      fill: #1967D2;\n",
              "      height: 32px;\n",
              "      padding: 0 0 0 0;\n",
              "      width: 32px;\n",
              "    }\n",
              "\n",
              "    .colab-df-convert:hover {\n",
              "      background-color: #E2EBFA;\n",
              "      box-shadow: 0px 1px 2px rgba(60, 64, 67, 0.3), 0px 1px 3px 1px rgba(60, 64, 67, 0.15);\n",
              "      fill: #174EA6;\n",
              "    }\n",
              "\n",
              "    [theme=dark] .colab-df-convert {\n",
              "      background-color: #3B4455;\n",
              "      fill: #D2E3FC;\n",
              "    }\n",
              "\n",
              "    [theme=dark] .colab-df-convert:hover {\n",
              "      background-color: #434B5C;\n",
              "      box-shadow: 0px 1px 3px 1px rgba(0, 0, 0, 0.15);\n",
              "      filter: drop-shadow(0px 1px 2px rgba(0, 0, 0, 0.3));\n",
              "      fill: #FFFFFF;\n",
              "    }\n",
              "  </style>\n",
              "\n",
              "      <script>\n",
              "        const buttonEl =\n",
              "          document.querySelector('#df-a1df9048-f011-4e06-92ec-99a3a6801b1a button.colab-df-convert');\n",
              "        buttonEl.style.display =\n",
              "          google.colab.kernel.accessAllowed ? 'block' : 'none';\n",
              "\n",
              "        async function convertToInteractive(key) {\n",
              "          const element = document.querySelector('#df-a1df9048-f011-4e06-92ec-99a3a6801b1a');\n",
              "          const dataTable =\n",
              "            await google.colab.kernel.invokeFunction('convertToInteractive',\n",
              "                                                     [key], {});\n",
              "          if (!dataTable) return;\n",
              "\n",
              "          const docLinkHtml = 'Like what you see? Visit the ' +\n",
              "            '<a target=\"_blank\" href=https://colab.research.google.com/notebooks/data_table.ipynb>data table notebook</a>'\n",
              "            + ' to learn more about interactive tables.';\n",
              "          element.innerHTML = '';\n",
              "          dataTable['output_type'] = 'display_data';\n",
              "          await google.colab.output.renderOutput(dataTable, element);\n",
              "          const docLink = document.createElement('div');\n",
              "          docLink.innerHTML = docLinkHtml;\n",
              "          element.appendChild(docLink);\n",
              "        }\n",
              "      </script>\n",
              "    </div>\n",
              "  </div>\n",
              "  "
            ]
          },
          "metadata": {},
          "execution_count": 16
        }
      ]
    },
    {
      "cell_type": "code",
      "source": [
        "sum_sales = nft_collections['Sales'].sum()\n",
        "sum_sales = f'U${sum_sales:_.0f}'\n",
        "sum_sales = sum_sales.replace('_','.')\n",
        "\n",
        "sum_buyers = nft_collections['Buyers'].sum()\n",
        "sum_buyers = f'{sum_buyers:_.0f}'\n",
        "sum_buyers = sum_buyers.replace('_','.')\n",
        "\n",
        "sum_transactions = nft_collections['Transactions'].sum()\n",
        "sum_transactions = f'{sum_transactions:_.0f}'\n",
        "sum_transactions = sum_transactions.replace('_','.')\n",
        "\n",
        "sum_Owners = nft_collections['Owners'].sum()\n",
        "sum_Owners = f'{sum_Owners:_.0f}'\n",
        "sum_Owners = sum_Owners.replace('_','.')\n",
        "\n",
        "print(f'Sales in Dollar = {sum_sales}')\n",
        "print(f'Quantity of Buyers Total = {sum_buyers}')\n",
        "print(f'Quantity of Transactions Total = {sum_transactions}')\n",
        "print(f'Quantity of Owners Total = {sum_Owners}')"
      ],
      "metadata": {
        "colab": {
          "base_uri": "https://localhost:8080/"
        },
        "id": "qt9fajW7ShIB",
        "outputId": "5db86d34-da66-4d98-e9d7-3d320adba3c2"
      },
      "execution_count": 17,
      "outputs": [
        {
          "output_type": "stream",
          "name": "stdout",
          "text": [
            "Sales in Dollar = U$15.662.226.598\n",
            "Quantity of Buyers Total = 3.871.272\n",
            "Quantity of Transactions Total = 61.911.965\n",
            "Quantity of Owners Total = 8.330.087\n"
          ]
        }
      ]
    },
    {
      "cell_type": "code",
      "source": [
        "nft_collections.describe()"
      ],
      "metadata": {
        "colab": {
          "base_uri": "https://localhost:8080/",
          "height": 300
        },
        "id": "lAPQ7LujfUYm",
        "outputId": "671fbd21-ec11-4ff5-92d8-484492970f9d"
      },
      "execution_count": 19,
      "outputs": [
        {
          "output_type": "execute_result",
          "data": {
            "text/plain": [
              "              Sales        Buyers  Transactions        Owners\n",
              "count  1.140000e+02  1.140000e+02  1.140000e+02  1.140000e+02\n",
              "mean   1.373880e+08  3.395853e+04  5.430874e+05  7.307094e+04\n",
              "std    4.515023e+08  1.741527e+05  2.584033e+06  4.017253e+05\n",
              "min    1.970062e+07  1.010000e+02  1.490000e+02  1.000000e+00\n",
              "25%    2.677956e+07  4.407000e+03  1.069300e+04  2.830750e+03\n",
              "50%    4.307028e+07  6.793000e+03  1.627750e+04  4.186000e+03\n",
              "75%    9.011547e+07  9.223000e+03  2.376650e+04  5.641500e+03\n",
              "max    4.074437e+09  1.758089e+06  2.050809e+07  3.488589e+06"
            ],
            "text/html": [
              "\n",
              "  <div id=\"df-b822274c-1db7-4ff2-9d9d-caad448ab88f\">\n",
              "    <div class=\"colab-df-container\">\n",
              "      <div>\n",
              "<style scoped>\n",
              "    .dataframe tbody tr th:only-of-type {\n",
              "        vertical-align: middle;\n",
              "    }\n",
              "\n",
              "    .dataframe tbody tr th {\n",
              "        vertical-align: top;\n",
              "    }\n",
              "\n",
              "    .dataframe thead th {\n",
              "        text-align: right;\n",
              "    }\n",
              "</style>\n",
              "<table border=\"1\" class=\"dataframe\">\n",
              "  <thead>\n",
              "    <tr style=\"text-align: right;\">\n",
              "      <th></th>\n",
              "      <th>Sales</th>\n",
              "      <th>Buyers</th>\n",
              "      <th>Transactions</th>\n",
              "      <th>Owners</th>\n",
              "    </tr>\n",
              "  </thead>\n",
              "  <tbody>\n",
              "    <tr>\n",
              "      <th>count</th>\n",
              "      <td>1.140000e+02</td>\n",
              "      <td>1.140000e+02</td>\n",
              "      <td>1.140000e+02</td>\n",
              "      <td>1.140000e+02</td>\n",
              "    </tr>\n",
              "    <tr>\n",
              "      <th>mean</th>\n",
              "      <td>1.373880e+08</td>\n",
              "      <td>3.395853e+04</td>\n",
              "      <td>5.430874e+05</td>\n",
              "      <td>7.307094e+04</td>\n",
              "    </tr>\n",
              "    <tr>\n",
              "      <th>std</th>\n",
              "      <td>4.515023e+08</td>\n",
              "      <td>1.741527e+05</td>\n",
              "      <td>2.584033e+06</td>\n",
              "      <td>4.017253e+05</td>\n",
              "    </tr>\n",
              "    <tr>\n",
              "      <th>min</th>\n",
              "      <td>1.970062e+07</td>\n",
              "      <td>1.010000e+02</td>\n",
              "      <td>1.490000e+02</td>\n",
              "      <td>1.000000e+00</td>\n",
              "    </tr>\n",
              "    <tr>\n",
              "      <th>25%</th>\n",
              "      <td>2.677956e+07</td>\n",
              "      <td>4.407000e+03</td>\n",
              "      <td>1.069300e+04</td>\n",
              "      <td>2.830750e+03</td>\n",
              "    </tr>\n",
              "    <tr>\n",
              "      <th>50%</th>\n",
              "      <td>4.307028e+07</td>\n",
              "      <td>6.793000e+03</td>\n",
              "      <td>1.627750e+04</td>\n",
              "      <td>4.186000e+03</td>\n",
              "    </tr>\n",
              "    <tr>\n",
              "      <th>75%</th>\n",
              "      <td>9.011547e+07</td>\n",
              "      <td>9.223000e+03</td>\n",
              "      <td>2.376650e+04</td>\n",
              "      <td>5.641500e+03</td>\n",
              "    </tr>\n",
              "    <tr>\n",
              "      <th>max</th>\n",
              "      <td>4.074437e+09</td>\n",
              "      <td>1.758089e+06</td>\n",
              "      <td>2.050809e+07</td>\n",
              "      <td>3.488589e+06</td>\n",
              "    </tr>\n",
              "  </tbody>\n",
              "</table>\n",
              "</div>\n",
              "      <button class=\"colab-df-convert\" onclick=\"convertToInteractive('df-b822274c-1db7-4ff2-9d9d-caad448ab88f')\"\n",
              "              title=\"Convert this dataframe to an interactive table.\"\n",
              "              style=\"display:none;\">\n",
              "        \n",
              "  <svg xmlns=\"http://www.w3.org/2000/svg\" height=\"24px\"viewBox=\"0 0 24 24\"\n",
              "       width=\"24px\">\n",
              "    <path d=\"M0 0h24v24H0V0z\" fill=\"none\"/>\n",
              "    <path d=\"M18.56 5.44l.94 2.06.94-2.06 2.06-.94-2.06-.94-.94-2.06-.94 2.06-2.06.94zm-11 1L8.5 8.5l.94-2.06 2.06-.94-2.06-.94L8.5 2.5l-.94 2.06-2.06.94zm10 10l.94 2.06.94-2.06 2.06-.94-2.06-.94-.94-2.06-.94 2.06-2.06.94z\"/><path d=\"M17.41 7.96l-1.37-1.37c-.4-.4-.92-.59-1.43-.59-.52 0-1.04.2-1.43.59L10.3 9.45l-7.72 7.72c-.78.78-.78 2.05 0 2.83L4 21.41c.39.39.9.59 1.41.59.51 0 1.02-.2 1.41-.59l7.78-7.78 2.81-2.81c.8-.78.8-2.07 0-2.86zM5.41 20L4 18.59l7.72-7.72 1.47 1.35L5.41 20z\"/>\n",
              "  </svg>\n",
              "      </button>\n",
              "      \n",
              "  <style>\n",
              "    .colab-df-container {\n",
              "      display:flex;\n",
              "      flex-wrap:wrap;\n",
              "      gap: 12px;\n",
              "    }\n",
              "\n",
              "    .colab-df-convert {\n",
              "      background-color: #E8F0FE;\n",
              "      border: none;\n",
              "      border-radius: 50%;\n",
              "      cursor: pointer;\n",
              "      display: none;\n",
              "      fill: #1967D2;\n",
              "      height: 32px;\n",
              "      padding: 0 0 0 0;\n",
              "      width: 32px;\n",
              "    }\n",
              "\n",
              "    .colab-df-convert:hover {\n",
              "      background-color: #E2EBFA;\n",
              "      box-shadow: 0px 1px 2px rgba(60, 64, 67, 0.3), 0px 1px 3px 1px rgba(60, 64, 67, 0.15);\n",
              "      fill: #174EA6;\n",
              "    }\n",
              "\n",
              "    [theme=dark] .colab-df-convert {\n",
              "      background-color: #3B4455;\n",
              "      fill: #D2E3FC;\n",
              "    }\n",
              "\n",
              "    [theme=dark] .colab-df-convert:hover {\n",
              "      background-color: #434B5C;\n",
              "      box-shadow: 0px 1px 3px 1px rgba(0, 0, 0, 0.15);\n",
              "      filter: drop-shadow(0px 1px 2px rgba(0, 0, 0, 0.3));\n",
              "      fill: #FFFFFF;\n",
              "    }\n",
              "  </style>\n",
              "\n",
              "      <script>\n",
              "        const buttonEl =\n",
              "          document.querySelector('#df-b822274c-1db7-4ff2-9d9d-caad448ab88f button.colab-df-convert');\n",
              "        buttonEl.style.display =\n",
              "          google.colab.kernel.accessAllowed ? 'block' : 'none';\n",
              "\n",
              "        async function convertToInteractive(key) {\n",
              "          const element = document.querySelector('#df-b822274c-1db7-4ff2-9d9d-caad448ab88f');\n",
              "          const dataTable =\n",
              "            await google.colab.kernel.invokeFunction('convertToInteractive',\n",
              "                                                     [key], {});\n",
              "          if (!dataTable) return;\n",
              "\n",
              "          const docLinkHtml = 'Like what you see? Visit the ' +\n",
              "            '<a target=\"_blank\" href=https://colab.research.google.com/notebooks/data_table.ipynb>data table notebook</a>'\n",
              "            + ' to learn more about interactive tables.';\n",
              "          element.innerHTML = '';\n",
              "          dataTable['output_type'] = 'display_data';\n",
              "          await google.colab.output.renderOutput(dataTable, element);\n",
              "          const docLink = document.createElement('div');\n",
              "          docLink.innerHTML = docLinkHtml;\n",
              "          element.appendChild(docLink);\n",
              "        }\n",
              "      </script>\n",
              "    </div>\n",
              "  </div>\n",
              "  "
            ]
          },
          "metadata": {},
          "execution_count": 19
        }
      ]
    },
    {
      "cell_type": "code",
      "source": [
        "ax = sns.pairplot(nft_collections, y_vars='Sales', x_vars=['Buyers','Transactions','Owners'], kind='reg',height=5)\n",
        "ax.figure.set_size_inches(13,5)\n",
        "ax.fig.suptitle('Dispersion Between Buyers, Transactions and Owners', fontsize=20, y=1.1)\n",
        "ax"
      ],
      "metadata": {
        "colab": {
          "base_uri": "https://localhost:8080/",
          "height": 435
        },
        "id": "weyasznXfUWT",
        "outputId": "52433f79-3fea-45cc-ad90-5d06a323034d"
      },
      "execution_count": 20,
      "outputs": [
        {
          "output_type": "execute_result",
          "data": {
            "text/plain": [
              "<seaborn.axisgrid.PairGrid at 0x7f5c2dede910>"
            ]
          },
          "metadata": {},
          "execution_count": 20
        },
        {
          "output_type": "display_data",
          "data": {
            "text/plain": [
              "<Figure size 936x360 with 3 Axes>"
            ],
            "image/png": "[encoded data removed]"
          },
          "metadata": {
            "needs_background": "light"
          }
        }
      ]
    },
    {
      "cell_type": "code",
      "source": [
        "sales = sns.barplot(x=\"Collections\", y=\"Sales\",color='#b8f2e6', data=nft_collections.nlargest(5, 'Sales'))\n",
        "\n",
        "for i in sales.patches:\n",
        "\n",
        "    sales.annotate('U${:,.0f}'.format(i.get_height()).replace(',','.'),\n",
        "                 (i.get_x() + i.get_width() / 2, i.get_height()),\n",
        "                  ha='center', va='baseline', fontsize=12, color='black', xytext=(0,1), textcoords='offset points')\n",
        "\n",
        "sales.figure.set_size_inches(15,8)\n",
        "sales.set_title(\"Top 5 NFT's in The World for Sale\", fontsize=20, y=1.05)\n",
        "sales.xaxis.label.set_size(12)\n",
        "sales.yaxis.label.set_size(12)"
      ],
      "metadata": {
        "colab": {
          "base_uri": "https://localhost:8080/",
          "height": 543
        },
        "id": "X2cUAZWXfUTz",
        "outputId": "412c4d1f-b299-47ae-9012-d2a5dad55945"
      },
      "execution_count": 24,
      "outputs": [
        {
          "output_type": "display_data",
          "data": {
            "text/plain": [
              "<Figure size 1080x576 with 1 Axes>"
            ],
            "image/png": "[encoded data removed]"
          },
          "metadata": {
            "needs_background": "light"
          }
        }
      ]
    },
    {
      "cell_type": "code",
      "source": [
        "Buyers = sns.barplot(x=\"Collections\", y=\"Buyers\",color='#7bdff2', data=nft_collections.nlargest(5, 'Buyers'))\n",
        "\n",
        "for i in Buyers.patches:\n",
        "\n",
        "    Buyers.annotate('U${:,.0f}'.format(i.get_height()).replace(',','.'),\n",
        "                 (i.get_x() + i.get_width() / 2, i.get_height()),\n",
        "                  ha='center', va='baseline', fontsize=12, color='black', xytext=(0,1), textcoords='offset points')\n",
        "\n",
        "Buyers.figure.set_size_inches(15,8)\n",
        "Buyers.set_title(\"Top 5 NFT's in The World for Buyers\", fontsize=20, y=1.05)\n",
        "Buyers.xaxis.label.set_size(12)\n",
        "Buyers.yaxis.label.set_size(12)"
      ],
      "metadata": {
        "colab": {
          "base_uri": "https://localhost:8080/",
          "height": 543
        },
        "id": "FFAwz6g-fURE",
        "outputId": "b312e6d4-f420-4b27-949d-a7e8bc58ef8e"
      },
      "execution_count": 27,
      "outputs": [
        {
          "output_type": "display_data",
          "data": {
            "text/plain": [
              "<Figure size 1080x576 with 1 Axes>"
            ],
            "image/png": "[encoded data removed]"
          },
          "metadata": {
            "needs_background": "light"
          }
        }
      ]
    },
    {
      "cell_type": "code",
      "source": [
        "Transactions = sns.barplot(x=\"Collections\", y=\"Transactions\",color='#89c2d9', \n",
        "                           data=nft_collections.nlargest(5, 'Transactions'))\n",
        "\n",
        "for i in Transactions.patches:\n",
        "    Transactions.annotate('U${:,.0f}'.format(i.get_height()).replace(',','.'),\n",
        "                (i.get_x() + i.get_width() / 2, i.get_height()),\n",
        "                  ha='center', va='baseline', fontsize=12, color='black', xytext=(0,1), textcoords='offset points')\n",
        "     \n",
        "Transactions.figure.set_size_inches(15,8)\n",
        "Transactions.set_title(\"Top 5 NFT's in The World for Transactions\", fontsize=20, y=1.05 )\n",
        "Transactions.xaxis.label.set_size(12)\n",
        "Transactions.yaxis.label.set_size(12)"
      ],
      "metadata": {
        "colab": {
          "base_uri": "https://localhost:8080/",
          "height": 543
        },
        "id": "K_hytzGaf2a-",
        "outputId": "9aaebb2e-922f-474b-bb85-66c30b12f533"
      },
      "execution_count": 26,
      "outputs": [
        {
          "output_type": "display_data",
          "data": {
            "text/plain": [
              "<Figure size 1080x576 with 1 Axes>"
            ],
            "image/png": "[encoded data removed]"
          },
          "metadata": {
            "needs_background": "light"
          }
        }
      ]
    },
    {
      "cell_type": "code",
      "source": [
        "Owners = sns.barplot(x=\"Collections\", y=\"Owners\", color='#2c7da0',data=nft_collections.nlargest(5, 'Owners'))\n",
        "\n",
        "for i in Owners.patches:\n",
        "    Owners.annotate('U${:,.0f}'.format(i.get_height()).replace(',','.'),\n",
        "\n",
        "                 (i.get_x() + i.get_width() / 2, i.get_height()),\n",
        "                  ha='center', va='baseline', fontsize=12, color='black', xytext=(0,1), textcoords='offset points')\n",
        "    \n",
        "Owners.figure.set_size_inches(15,8)\n",
        "Owners.set_title(\"Top 5 NFT's in The World for Owners\", fontsize=20, y=1.05)\n",
        "Owners.xaxis.label.set_size(12)\n",
        "Owners.yaxis.label.set_size(12)"
      ],
      "metadata": {
        "colab": {
          "base_uri": "https://localhost:8080/",
          "height": 543
        },
        "id": "k0hesAgaf2Yo",
        "outputId": "1819c861-2a07-4e2a-d5eb-38381f3bb8ea"
      },
      "execution_count": 29,
      "outputs": [
        {
          "output_type": "display_data",
          "data": {
            "text/plain": [
              "<Figure size 1080x576 with 1 Axes>"
            ],
            "image/png": "[encoded data removed]"
          },
          "metadata": {
            "needs_background": "light"
          }
        }
      ]
    },
    {
      "cell_type": "code",
      "source": [
        "nft_collections['Sales Greater than 500.000.000'] = np.where(nft_collections['Sales']>=500000000, 'Yes', 'No')\n",
        "nft_collections.head()"
      ],
      "metadata": {
        "colab": {
          "base_uri": "https://localhost:8080/",
          "height": 206
        },
        "id": "cWJC7towgHY8",
        "outputId": "8cb9519f-3e76-4375-f589-0edd4c350be8"
      },
      "execution_count": 30,
      "outputs": [
        {
          "output_type": "execute_result",
          "data": {
            "text/plain": [
              "      Collections       Sales   Buyers  Transactions   Owners  \\\n",
              "0   Axie Infinity  4074436593  1758089      16425913  2421759   \n",
              "1     CryptoPunks  2265241216     5681         21287     3711   \n",
              "4      Art Blocks  1265723876    30142        161629    34392   \n",
              "5    NBA Top Shot  1010518586   441331      20508086   694627   \n",
              "13    The Sandbox   371134354    25051         55929    19033   \n",
              "\n",
              "   Sales Greater than 500.000.000  \n",
              "0                             Yes  \n",
              "1                             Yes  \n",
              "4                             Yes  \n",
              "5                             Yes  \n",
              "13                             No  "
            ],
            "text/html": [
              "\n",
              "  <div id=\"df-9c9209d0-6c5f-4478-99c8-9dbe48cbd3e8\">\n",
              "    <div class=\"colab-df-container\">\n",
              "      <div>\n",
              "<style scoped>\n",
              "    .dataframe tbody tr th:only-of-type {\n",
              "        vertical-align: middle;\n",
              "    }\n",
              "\n",
              "    .dataframe tbody tr th {\n",
              "        vertical-align: top;\n",
              "    }\n",
              "\n",
              "    .dataframe thead th {\n",
              "        text-align: right;\n",
              "    }\n",
              "</style>\n",
              "<table border=\"1\" class=\"dataframe\">\n",
              "  <thead>\n",
              "    <tr style=\"text-align: right;\">\n",
              "      <th></th>\n",
              "      <th>Collections</th>\n",
              "      <th>Sales</th>\n",
              "      <th>Buyers</th>\n",
              "      <th>Transactions</th>\n",
              "      <th>Owners</th>\n",
              "      <th>Sales Greater than 500.000.000</th>\n",
              "    </tr>\n",
              "  </thead>\n",
              "  <tbody>\n",
              "    <tr>\n",
              "      <th>0</th>\n",
              "      <td>Axie Infinity</td>\n",
              "      <td>4074436593</td>\n",
              "      <td>1758089</td>\n",
              "      <td>16425913</td>\n",
              "      <td>2421759</td>\n",
              "      <td>Yes</td>\n",
              "    </tr>\n",
              "    <tr>\n",
              "      <th>1</th>\n",
              "      <td>CryptoPunks</td>\n",
              "      <td>2265241216</td>\n",
              "      <td>5681</td>\n",
              "      <td>21287</td>\n",
              "      <td>3711</td>\n",
              "      <td>Yes</td>\n",
              "    </tr>\n",
              "    <tr>\n",
              "      <th>4</th>\n",
              "      <td>Art Blocks</td>\n",
              "      <td>1265723876</td>\n",
              "      <td>30142</td>\n",
              "      <td>161629</td>\n",
              "      <td>34392</td>\n",
              "      <td>Yes</td>\n",
              "    </tr>\n",
              "    <tr>\n",
              "      <th>5</th>\n",
              "      <td>NBA Top Shot</td>\n",
              "      <td>1010518586</td>\n",
              "      <td>441331</td>\n",
              "      <td>20508086</td>\n",
              "      <td>694627</td>\n",
              "      <td>Yes</td>\n",
              "    </tr>\n",
              "    <tr>\n",
              "      <th>13</th>\n",
              "      <td>The Sandbox</td>\n",
              "      <td>371134354</td>\n",
              "      <td>25051</td>\n",
              "      <td>55929</td>\n",
              "      <td>19033</td>\n",
              "      <td>No</td>\n",
              "    </tr>\n",
              "  </tbody>\n",
              "</table>\n",
              "</div>\n",
              "      <button class=\"colab-df-convert\" onclick=\"convertToInteractive('df-9c9209d0-6c5f-4478-99c8-9dbe48cbd3e8')\"\n",
              "              title=\"Convert this dataframe to an interactive table.\"\n",
              "              style=\"display:none;\">\n",
              "        \n",
              "  <svg xmlns=\"http://www.w3.org/2000/svg\" height=\"24px\"viewBox=\"0 0 24 24\"\n",
              "       width=\"24px\">\n",
              "    <path d=\"M0 0h24v24H0V0z\" fill=\"none\"/>\n",
              "    <path d=\"M18.56 5.44l.94 2.06.94-2.06 2.06-.94-2.06-.94-.94-2.06-.94 2.06-2.06.94zm-11 1L8.5 8.5l.94-2.06 2.06-.94-2.06-.94L8.5 2.5l-.94 2.06-2.06.94zm10 10l.94 2.06.94-2.06 2.06-.94-2.06-.94-.94-2.06-.94 2.06-2.06.94z\"/><path d=\"M17.41 7.96l-1.37-1.37c-.4-.4-.92-.59-1.43-.59-.52 0-1.04.2-1.43.59L10.3 9.45l-7.72 7.72c-.78.78-.78 2.05 0 2.83L4 21.41c.39.39.9.59 1.41.59.51 0 1.02-.2 1.41-.59l7.78-7.78 2.81-2.81c.8-.78.8-2.07 0-2.86zM5.41 20L4 18.59l7.72-7.72 1.47 1.35L5.41 20z\"/>\n",
              "  </svg>\n",
              "      </button>\n",
              "      \n",
              "  <style>\n",
              "    .colab-df-container {\n",
              "      display:flex;\n",
              "      flex-wrap:wrap;\n",
              "      gap: 12px;\n",
              "    }\n",
              "\n",
              "    .colab-df-convert {\n",
              "      background-color: #E8F0FE;\n",
              "      border: none;\n",
              "      border-radius: 50%;\n",
              "      cursor: pointer;\n",
              "      display: none;\n",
              "      fill: #1967D2;\n",
              "      height: 32px;\n",
              "      padding: 0 0 0 0;\n",
              "      width: 32px;\n",
              "    }\n",
              "\n",
              "    .colab-df-convert:hover {\n",
              "      background-color: #E2EBFA;\n",
              "      box-shadow: 0px 1px 2px rgba(60, 64, 67, 0.3), 0px 1px 3px 1px rgba(60, 64, 67, 0.15);\n",
              "      fill: #174EA6;\n",
              "    }\n",
              "\n",
              "    [theme=dark] .colab-df-convert {\n",
              "      background-color: #3B4455;\n",
              "      fill: #D2E3FC;\n",
              "    }\n",
              "\n",
              "    [theme=dark] .colab-df-convert:hover {\n",
              "      background-color: #434B5C;\n",
              "      box-shadow: 0px 1px 3px 1px rgba(0, 0, 0, 0.15);\n",
              "      filter: drop-shadow(0px 1px 2px rgba(0, 0, 0, 0.3));\n",
              "      fill: #FFFFFF;\n",
              "    }\n",
              "  </style>\n",
              "\n",
              "      <script>\n",
              "        const buttonEl =\n",
              "          document.querySelector('#df-9c9209d0-6c5f-4478-99c8-9dbe48cbd3e8 button.colab-df-convert');\n",
              "        buttonEl.style.display =\n",
              "          google.colab.kernel.accessAllowed ? 'block' : 'none';\n",
              "\n",
              "        async function convertToInteractive(key) {\n",
              "          const element = document.querySelector('#df-9c9209d0-6c5f-4478-99c8-9dbe48cbd3e8');\n",
              "          const dataTable =\n",
              "            await google.colab.kernel.invokeFunction('convertToInteractive',\n",
              "                                                     [key], {});\n",
              "          if (!dataTable) return;\n",
              "\n",
              "          const docLinkHtml = 'Like what you see? Visit the ' +\n",
              "            '<a target=\"_blank\" href=https://colab.research.google.com/notebooks/data_table.ipynb>data table notebook</a>'\n",
              "            + ' to learn more about interactive tables.';\n",
              "          element.innerHTML = '';\n",
              "          dataTable['output_type'] = 'display_data';\n",
              "          await google.colab.output.renderOutput(dataTable, element);\n",
              "          const docLink = document.createElement('div');\n",
              "          docLink.innerHTML = docLinkHtml;\n",
              "          element.appendChild(docLink);\n",
              "        }\n",
              "      </script>\n",
              "    </div>\n",
              "  </div>\n",
              "  "
            ]
          },
          "metadata": {},
          "execution_count": 30
        }
      ]
    },
    {
      "cell_type": "code",
      "source": [
        "sum_sales_than_500000000= nft_collections.groupby('Sales Greater than 500.000.000').sum()\n",
        "print(format(sum_sales_than_500000000))"
      ],
      "metadata": {
        "colab": {
          "base_uri": "https://localhost:8080/"
        },
        "id": "vgVBFd3sgHWJ",
        "outputId": "bf7c4dc9-b6e0-4495-e129-08421b9be7cb"
      },
      "execution_count": 31,
      "outputs": [
        {
          "output_type": "stream",
          "name": "stdout",
          "text": [
            "                                     Sales   Buyers  Transactions   Owners\n",
            "Sales Greater than 500.000.000                                            \n",
            "No                              7046306327  1636029      24795050  5175598\n",
            "Yes                             8615920271  2235243      37116915  3154489\n"
          ]
        }
      ]
    },
    {
      "cell_type": "code",
      "source": [
        "\"\"\" Based on these data, we can analyze that most buyers are investing their money\n",
        "    in companies that have already made more than 500,000,000 dollars.\n",
        "\"\"\"\n",
        "\n",
        "sales_greater_than_500000000 = sns.barplot(x=\"Sales Greater than 500.000.000\", y=\"Buyers\", color=\"#99d98c\", data=nft_collections.nlargest(5, 'Buyers'))\n",
        "sales_greater_than_500000000.figure.set_size_inches(15,8)\n",
        "\n",
        "for i in sales_greater_than_500000000.patches:\n",
        "    sales_greater_than_500000000.annotate('{:,.0f}'.format(i.get_height()).replace(',','.'),\n",
        "                 (i.get_x() + i.get_width() / 2, i.get_height()),\n",
        "                  ha='center', va='baseline', fontsize=12, color='black', xytext=(0,1), textcoords='offset points')\n",
        "    \n",
        "    \n",
        "sales_greater_than_500000000.set_title(\"Top 5 NFT's in The World for Owners\", fontsize=20, y=1.05)\n",
        "sales_greater_than_500000000.xaxis.label.set_size(12)\n",
        "sales_greater_than_500000000.yaxis.label.set_size(12)"
      ],
      "metadata": {
        "colab": {
          "base_uri": "https://localhost:8080/",
          "height": 543
        },
        "id": "Wx4D1ahfgHTj",
        "outputId": "423cf3ae-9294-4fe8-c06d-0daa27394e6a"
      },
      "execution_count": 32,
      "outputs": [
        {
          "output_type": "display_data",
          "data": {
            "text/plain": [
              "<Figure size 1080x576 with 1 Axes>"
            ],
            "image/png": "[encoded data removed]"
          },
          "metadata": {
            "needs_background": "light"
          }
        }
      ]
    },
    {
      "cell_type": "code",
      "source": [
        "# At this time, I will analyze the representativeness about nft's that the value in sales in more than 500.000.000.\n",
        "\n",
        "percent_nft_large_than_500000000 = nft_collections.groupby(['Sales Greater than 500.000.000']).count()['Collections']\n",
        "labels = [\"Not in 500.000.000 club\",\"500.000.000 club\"]\n",
        "plt.style.use('seaborn-pastel')\n",
        "plt.figure(figsize=(10,8))\n",
        "plt.pie(percent_nft_large_than_500000000,labels=labels,autopct='%.2f %%',textprops={'fontsize': 14})\n",
        "plt.show()"
      ],
      "metadata": {
        "colab": {
          "base_uri": "https://localhost:8080/",
          "height": 466
        },
        "id": "7TEynrtCgTTY",
        "outputId": "49c10fe7-fa22-42d9-dc5d-56ee58aa7502"
      },
      "execution_count": 33,
      "outputs": [
        {
          "output_type": "display_data",
          "data": {
            "text/plain": [
              "<Figure size 720x576 with 1 Axes>"
            ],
            "image/png": "[encoded data removed]"
          },
          "metadata": {}
        }
      ]
    },
    {
      "cell_type": "code",
      "source": [
        " ###For create a ABC is necessary create a percent about this sales and a percent accumulated and a rule about ABC.\n",
        "\n",
        "\"\"\" This Rules about ABC is:\n",
        "    A <= 0.8\n",
        "    B <= 0.95\n",
        "    C <= 1.00 \"\"\"\n",
        "\n",
        "nft_collections['percent_sales'] = nft_collections['Sales'] / nft_collections['Sales'].sum()\n",
        "nft_collections['Acumulated_sales'] = nft_collections['percent_sales'].cumsum()\n",
        "\n",
        "nft_collections['ABC'] = ['A' if i <= 0.8 else 'B' if i<0.95 else 'C' for i in nft_collections['Acumulated_sales']]\n",
        "\n",
        "nft_collections"
      ],
      "metadata": {
        "colab": {
          "base_uri": "https://localhost:8080/",
          "height": 424
        },
        "id": "mfiT97wegTMS",
        "outputId": "8ab309bf-c5d9-4534-80b6-e2c40dce8810"
      },
      "execution_count": 35,
      "outputs": [
        {
          "output_type": "execute_result",
          "data": {
            "text/plain": [
              "          Collections       Sales   Buyers  Transactions   Owners  \\\n",
              "0       Axie Infinity  4074436593  1758089      16425913  2421759   \n",
              "1         CryptoPunks  2265241216     5681         21287     3711   \n",
              "4          Art Blocks  1265723876    30142        161629    34392   \n",
              "5        NBA Top Shot  1010518586   441331      20508086   694627   \n",
              "13        The Sandbox   371134354    25051         55929    19033   \n",
              "..                ...         ...      ...           ...      ...   \n",
              "237  Space Punks Club    20649569     6174         14016     4307   \n",
              "241    Gods Unchained    20280023     3576        386409    15272   \n",
              "242     DystoPunks V2    20247979     1326          3169      673   \n",
              "245        Wool Pouch    19972856     2043          5349     3272   \n",
              "248          BYOPills    19700617     5586         13728     3216   \n",
              "\n",
              "    Sales Greater than 500.000.000  percent_sales  Acumulated_sales ABC  \n",
              "0                              Yes       0.260144          0.260144   A  \n",
              "1                              Yes       0.144631          0.404775   A  \n",
              "4                              Yes       0.080814          0.485589   A  \n",
              "5                              Yes       0.064519          0.550108   A  \n",
              "13                              No       0.023696          0.573804   A  \n",
              "..                             ...            ...               ...  ..  \n",
              "237                             No       0.001318          0.994879   C  \n",
              "241                             No       0.001295          0.996174   C  \n",
              "242                             No       0.001293          0.997467   C  \n",
              "245                             No       0.001275          0.998742   C  \n",
              "248                             No       0.001258          1.000000   C  \n",
              "\n",
              "[114 rows x 9 columns]"
            ],
            "text/html": [
              "\n",
              "  <div id=\"df-26655579-2828-4eba-b368-c0443200d1aa\">\n",
              "    <div class=\"colab-df-container\">\n",
              "      <div>\n",
              "<style scoped>\n",
              "    .dataframe tbody tr th:only-of-type {\n",
              "        vertical-align: middle;\n",
              "    }\n",
              "\n",
              "    .dataframe tbody tr th {\n",
              "        vertical-align: top;\n",
              "    }\n",
              "\n",
              "    .dataframe thead th {\n",
              "        text-align: right;\n",
              "    }\n",
              "</style>\n",
              "<table border=\"1\" class=\"dataframe\">\n",
              "  <thead>\n",
              "    <tr style=\"text-align: right;\">\n",
              "      <th></th>\n",
              "      <th>Collections</th>\n",
              "      <th>Sales</th>\n",
              "      <th>Buyers</th>\n",
              "      <th>Transactions</th>\n",
              "      <th>Owners</th>\n",
              "      <th>Sales Greater than 500.000.000</th>\n",
              "      <th>percent_sales</th>\n",
              "      <th>Acumulated_sales</th>\n",
              "      <th>ABC</th>\n",
              "    </tr>\n",
              "  </thead>\n",
              "  <tbody>\n",
              "    <tr>\n",
              "      <th>0</th>\n",
              "      <td>Axie Infinity</td>\n",
              "      <td>4074436593</td>\n",
              "      <td>1758089</td>\n",
              "      <td>16425913</td>\n",
              "      <td>2421759</td>\n",
              "      <td>Yes</td>\n",
              "      <td>0.260144</td>\n",
              "      <td>0.260144</td>\n",
              "      <td>A</td>\n",
              "    </tr>\n",
              "    <tr>\n",
              "      <th>1</th>\n",
              "      <td>CryptoPunks</td>\n",
              "      <td>2265241216</td>\n",
              "      <td>5681</td>\n",
              "      <td>21287</td>\n",
              "      <td>3711</td>\n",
              "      <td>Yes</td>\n",
              "      <td>0.144631</td>\n",
              "      <td>0.404775</td>\n",
              "      <td>A</td>\n",
              "    </tr>\n",
              "    <tr>\n",
              "      <th>4</th>\n",
              "      <td>Art Blocks</td>\n",
              "      <td>1265723876</td>\n",
              "      <td>30142</td>\n",
              "      <td>161629</td>\n",
              "      <td>34392</td>\n",
              "      <td>Yes</td>\n",
              "      <td>0.080814</td>\n",
              "      <td>0.485589</td>\n",
              "      <td>A</td>\n",
              "    </tr>\n",
              "    <tr>\n",
              "      <th>5</th>\n",
              "      <td>NBA Top Shot</td>\n",
              "      <td>1010518586</td>\n",
              "      <td>441331</td>\n",
              "      <td>20508086</td>\n",
              "      <td>694627</td>\n",
              "      <td>Yes</td>\n",
              "      <td>0.064519</td>\n",
              "      <td>0.550108</td>\n",
              "      <td>A</td>\n",
              "    </tr>\n",
              "    <tr>\n",
              "      <th>13</th>\n",
              "      <td>The Sandbox</td>\n",
              "      <td>371134354</td>\n",
              "      <td>25051</td>\n",
              "      <td>55929</td>\n",
              "      <td>19033</td>\n",
              "      <td>No</td>\n",
              "      <td>0.023696</td>\n",
              "      <td>0.573804</td>\n",
              "      <td>A</td>\n",
              "    </tr>\n",
              "    <tr>\n",
              "      <th>...</th>\n",
              "      <td>...</td>\n",
              "      <td>...</td>\n",
              "      <td>...</td>\n",
              "      <td>...</td>\n",
              "      <td>...</td>\n",
              "      <td>...</td>\n",
              "      <td>...</td>\n",
              "      <td>...</td>\n",
              "      <td>...</td>\n",
              "    </tr>\n",
              "    <tr>\n",
              "      <th>237</th>\n",
              "      <td>Space Punks Club</td>\n",
              "      <td>20649569</td>\n",
              "      <td>6174</td>\n",
              "      <td>14016</td>\n",
              "      <td>4307</td>\n",
              "      <td>No</td>\n",
              "      <td>0.001318</td>\n",
              "      <td>0.994879</td>\n",
              "      <td>C</td>\n",
              "    </tr>\n",
              "    <tr>\n",
              "      <th>241</th>\n",
              "      <td>Gods Unchained</td>\n",
              "      <td>20280023</td>\n",
              "      <td>3576</td>\n",
              "      <td>386409</td>\n",
              "      <td>15272</td>\n",
              "      <td>No</td>\n",
              "      <td>0.001295</td>\n",
              "      <td>0.996174</td>\n",
              "      <td>C</td>\n",
              "    </tr>\n",
              "    <tr>\n",
              "      <th>242</th>\n",
              "      <td>DystoPunks V2</td>\n",
              "      <td>20247979</td>\n",
              "      <td>1326</td>\n",
              "      <td>3169</td>\n",
              "      <td>673</td>\n",
              "      <td>No</td>\n",
              "      <td>0.001293</td>\n",
              "      <td>0.997467</td>\n",
              "      <td>C</td>\n",
              "    </tr>\n",
              "    <tr>\n",
              "      <th>245</th>\n",
              "      <td>Wool Pouch</td>\n",
              "      <td>19972856</td>\n",
              "      <td>2043</td>\n",
              "      <td>5349</td>\n",
              "      <td>3272</td>\n",
              "      <td>No</td>\n",
              "      <td>0.001275</td>\n",
              "      <td>0.998742</td>\n",
              "      <td>C</td>\n",
              "    </tr>\n",
              "    <tr>\n",
              "      <th>248</th>\n",
              "      <td>BYOPills</td>\n",
              "      <td>19700617</td>\n",
              "      <td>5586</td>\n",
              "      <td>13728</td>\n",
              "      <td>3216</td>\n",
              "      <td>No</td>\n",
              "      <td>0.001258</td>\n",
              "      <td>1.000000</td>\n",
              "      <td>C</td>\n",
              "    </tr>\n",
              "  </tbody>\n",
              "</table>\n",
              "<p>114 rows × 9 columns</p>\n",
              "</div>\n",
              "      <button class=\"colab-df-convert\" onclick=\"convertToInteractive('df-26655579-2828-4eba-b368-c0443200d1aa')\"\n",
              "              title=\"Convert this dataframe to an interactive table.\"\n",
              "              style=\"display:none;\">\n",
              "        \n",
              "  <svg xmlns=\"http://www.w3.org/2000/svg\" height=\"24px\"viewBox=\"0 0 24 24\"\n",
              "       width=\"24px\">\n",
              "    <path d=\"M0 0h24v24H0V0z\" fill=\"none\"/>\n",
              "    <path d=\"M18.56 5.44l.94 2.06.94-2.06 2.06-.94-2.06-.94-.94-2.06-.94 2.06-2.06.94zm-11 1L8.5 8.5l.94-2.06 2.06-.94-2.06-.94L8.5 2.5l-.94 2.06-2.06.94zm10 10l.94 2.06.94-2.06 2.06-.94-2.06-.94-.94-2.06-.94 2.06-2.06.94z\"/><path d=\"M17.41 7.96l-1.37-1.37c-.4-.4-.92-.59-1.43-.59-.52 0-1.04.2-1.43.59L10.3 9.45l-7.72 7.72c-.78.78-.78 2.05 0 2.83L4 21.41c.39.39.9.59 1.41.59.51 0 1.02-.2 1.41-.59l7.78-7.78 2.81-2.81c.8-.78.8-2.07 0-2.86zM5.41 20L4 18.59l7.72-7.72 1.47 1.35L5.41 20z\"/>\n",
              "  </svg>\n",
              "      </button>\n",
              "      \n",
              "  <style>\n",
              "    .colab-df-container {\n",
              "      display:flex;\n",
              "      flex-wrap:wrap;\n",
              "      gap: 12px;\n",
              "    }\n",
              "\n",
              "    .colab-df-convert {\n",
              "      background-color: #E8F0FE;\n",
              "      border: none;\n",
              "      border-radius: 50%;\n",
              "      cursor: pointer;\n",
              "      display: none;\n",
              "      fill: #1967D2;\n",
              "      height: 32px;\n",
              "      padding: 0 0 0 0;\n",
              "      width: 32px;\n",
              "    }\n",
              "\n",
              "    .colab-df-convert:hover {\n",
              "      background-color: #E2EBFA;\n",
              "      box-shadow: 0px 1px 2px rgba(60, 64, 67, 0.3), 0px 1px 3px 1px rgba(60, 64, 67, 0.15);\n",
              "      fill: #174EA6;\n",
              "    }\n",
              "\n",
              "    [theme=dark] .colab-df-convert {\n",
              "      background-color: #3B4455;\n",
              "      fill: #D2E3FC;\n",
              "    }\n",
              "\n",
              "    [theme=dark] .colab-df-convert:hover {\n",
              "      background-color: #434B5C;\n",
              "      box-shadow: 0px 1px 3px 1px rgba(0, 0, 0, 0.15);\n",
              "      filter: drop-shadow(0px 1px 2px rgba(0, 0, 0, 0.3));\n",
              "      fill: #FFFFFF;\n",
              "    }\n",
              "  </style>\n",
              "\n",
              "      <script>\n",
              "        const buttonEl =\n",
              "          document.querySelector('#df-26655579-2828-4eba-b368-c0443200d1aa button.colab-df-convert');\n",
              "        buttonEl.style.display =\n",
              "          google.colab.kernel.accessAllowed ? 'block' : 'none';\n",
              "\n",
              "        async function convertToInteractive(key) {\n",
              "          const element = document.querySelector('#df-26655579-2828-4eba-b368-c0443200d1aa');\n",
              "          const dataTable =\n",
              "            await google.colab.kernel.invokeFunction('convertToInteractive',\n",
              "                                                     [key], {});\n",
              "          if (!dataTable) return;\n",
              "\n",
              "          const docLinkHtml = 'Like what you see? Visit the ' +\n",
              "            '<a target=\"_blank\" href=https://colab.research.google.com/notebooks/data_table.ipynb>data table notebook</a>'\n",
              "            + ' to learn more about interactive tables.';\n",
              "          element.innerHTML = '';\n",
              "          dataTable['output_type'] = 'display_data';\n",
              "          await google.colab.output.renderOutput(dataTable, element);\n",
              "          const docLink = document.createElement('div');\n",
              "          docLink.innerHTML = docLinkHtml;\n",
              "          element.appendChild(docLink);\n",
              "        }\n",
              "      </script>\n",
              "    </div>\n",
              "  </div>\n",
              "  "
            ]
          },
          "metadata": {},
          "execution_count": 35
        }
      ]
    },
    {
      "cell_type": "code",
      "source": [
        "ax = plt.subplots(figsize=(15, 8))    \n",
        "    \n",
        "ax = sns.countplot(y=\"ABC\", data=nft_collections, color=\"#95d5b2\")\n",
        "ax.set_ylabel(\"ABC\", fontsize = 12)\n",
        "ax.set_xlabel(\"Quantity of Collections\", fontsize = 12)\n",
        "ax.set_title(\"ABC Analytics || Pareto Analytics\", fontsize = 14, y=1.05)\n",
        "Text(0.5, 1.05, 'ABC Analytics || Pareto Analytics')"
      ],
      "metadata": {
        "colab": {
          "base_uri": "https://localhost:8080/",
          "height": 723
        },
        "id": "0iaHuBl0ggkV",
        "outputId": "2860df70-0ed6-4f55-b432-eb8ace757d5d"
      },
      "execution_count": 36,
      "outputs": [
        {
          "output_type": "error",
          "ename": "NameError",
          "evalue": "ignored",
          "traceback": [
            "\u001b[0;31m---------------------------------------------------------------------------\u001b[0m",
            "\u001b[0;31mNameError\u001b[0m                                 Traceback (most recent call last)",
            "\u001b[0;32m<ipython-input-36-37d0e65a1586>\u001b[0m in \u001b[0;36m<module>\u001b[0;34m()\u001b[0m\n\u001b[1;32m      5\u001b[0m \u001b[0max\u001b[0m\u001b[0;34m.\u001b[0m\u001b[0mset_xlabel\u001b[0m\u001b[0;34m(\u001b[0m\u001b[0;34m\"Quantity of Collections\"\u001b[0m\u001b[0;34m,\u001b[0m \u001b[0mfontsize\u001b[0m \u001b[0;34m=\u001b[0m \u001b[0;36m12\u001b[0m\u001b[0;34m)\u001b[0m\u001b[0;34m\u001b[0m\u001b[0;34m\u001b[0m\u001b[0m\n\u001b[1;32m      6\u001b[0m \u001b[0max\u001b[0m\u001b[0;34m.\u001b[0m\u001b[0mset_title\u001b[0m\u001b[0;34m(\u001b[0m\u001b[0;34m\"ABC Analytics || Pareto Analytics\"\u001b[0m\u001b[0;34m,\u001b[0m \u001b[0mfontsize\u001b[0m \u001b[0;34m=\u001b[0m \u001b[0;36m14\u001b[0m\u001b[0;34m,\u001b[0m \u001b[0my\u001b[0m\u001b[0;34m=\u001b[0m\u001b[0;36m1.05\u001b[0m\u001b[0;34m)\u001b[0m\u001b[0;34m\u001b[0m\u001b[0;34m\u001b[0m\u001b[0m\n\u001b[0;32m----> 7\u001b[0;31m \u001b[0mText\u001b[0m\u001b[0;34m(\u001b[0m\u001b[0;36m0.5\u001b[0m\u001b[0;34m,\u001b[0m \u001b[0;36m1.05\u001b[0m\u001b[0;34m,\u001b[0m \u001b[0;34m'ABC Analytics || Pareto Analytics'\u001b[0m\u001b[0;34m)\u001b[0m\u001b[0;34m\u001b[0m\u001b[0;34m\u001b[0m\u001b[0m\n\u001b[0m",
            "\u001b[0;31mNameError\u001b[0m: name 'Text' is not defined"
          ]
        },
        {
          "output_type": "display_data",
          "data": {
            "text/plain": [
              "<Figure size 1080x576 with 1 Axes>"
            ],
            "image/png": "[encoded data removed]"
          },
          "metadata": {
            "needs_background": "light"
          }
        }
      ]
    },
    {
      "cell_type": "code",
      "source": [
        ""
      ],
      "metadata": {
        "id": "sggPZBliggiF"
      },
      "execution_count": null,
      "outputs": []
    }
  ]
}